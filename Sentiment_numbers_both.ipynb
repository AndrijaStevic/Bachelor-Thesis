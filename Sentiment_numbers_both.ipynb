{
 "cells": [
  {
   "cell_type": "code",
   "execution_count": 1,
   "metadata": {},
   "outputs": [],
   "source": [
    "import pandas as pd\n",
    "from transformers import BertTokenizer, BertForSequenceClassification\n",
    "from transformers import pipeline\n",
    "import torch\n",
    "from tqdm import tqdm"
   ]
  },
  {
   "cell_type": "code",
   "execution_count": 2,
   "metadata": {},
   "outputs": [],
   "source": [
    "# Load the dataset\n",
    "data_path = 'financialNews.csv'\n",
    "df = pd.read_csv(data_path)"
   ]
  },
  {
   "cell_type": "code",
   "execution_count": 3,
   "metadata": {},
   "outputs": [],
   "source": [
    "# Drop duplicate descriptions and filter out unwanted rows\n",
    "df = df.drop_duplicates(subset='description', keep='first')\n",
    "df = df[df['description'].str.len() >= 30]  # Keep descriptions with at least 30 characters\n",
    "df = df[~df['description'].str.startswith(('By', '(Update'))]  # Exclude descriptions starting with \"By\" or \"(Update\""
   ]
  },
  {
   "cell_type": "code",
   "execution_count": 4,
   "metadata": {},
   "outputs": [
    {
     "data": {
      "text/plain": [
       "72165"
      ]
     },
     "execution_count": 4,
     "metadata": {},
     "output_type": "execute_result"
    }
   ],
   "source": [
    "len(df)"
   ]
  },
  {
   "cell_type": "code",
   "execution_count": 5,
   "metadata": {},
   "outputs": [],
   "source": [
    "# Combine title and description into a single text for sentiment analysis\n",
    "df['full_text'] = df['title'] + \". \" + df['description']"
   ]
  },
  {
   "cell_type": "code",
   "execution_count": 6,
   "metadata": {},
   "outputs": [],
   "source": [
    "# Initialize FinBERT model and tokenizer\n",
    "model_name = \"yiyanghkust/finbert-tone\"\n",
    "tokenizer = BertTokenizer.from_pretrained(model_name)\n",
    "model = BertForSequenceClassification.from_pretrained(model_name)\n",
    "sentiment_analyzer = pipeline(\"sentiment-analysis\", model=model, tokenizer=tokenizer)"
   ]
  },
  {
   "cell_type": "code",
   "execution_count": 7,
   "metadata": {},
   "outputs": [],
   "source": [
    "# Function to compute sentiment scores\n",
    "def compute_sentiment_scores(text):\n",
    "    inputs = tokenizer(text, return_tensors=\"pt\", padding=True, truncation=True, max_length=512)\n",
    "    outputs = model(**inputs)\n",
    "    scores = torch.softmax(outputs.logits, dim=1).detach().numpy()[0]\n",
    "    return {\n",
    "        \"neutral\": scores[0],\n",
    "        \"positive\": scores[1],\n",
    "        \"negative\": scores[2]\n",
    "    }"
   ]
  },
  {
   "cell_type": "code",
   "execution_count": 8,
   "metadata": {},
   "outputs": [
    {
     "name": "stderr",
     "output_type": "stream",
     "text": [
      "Processing Sentiments: 100%|██████████| 72165/72165 [2:40:28<00:00,  7.50it/s]  \n"
     ]
    }
   ],
   "source": [
    "# Apply sentiment analysis to each description with tqdm\n",
    "tqdm.pandas(desc=\"Processing Sentiments\")\n",
    "df['sentiment_scores'] = df['full_text'].progress_apply(compute_sentiment_scores)"
   ]
  },
  {
   "cell_type": "code",
   "execution_count": 9,
   "metadata": {},
   "outputs": [],
   "source": [
    "# Extract sentiment components into separate columns\n",
    "df['neutral'] = df['sentiment_scores'].apply(lambda x: x['neutral'])\n",
    "df['positive'] = df['sentiment_scores'].apply(lambda x: x['positive'])\n",
    "df['negative'] = df['sentiment_scores'].apply(lambda x: x['negative'])"
   ]
  },
  {
   "cell_type": "code",
   "execution_count": 10,
   "metadata": {},
   "outputs": [
    {
     "data": {
      "text/html": [
       "<div>\n",
       "<style scoped>\n",
       "    .dataframe tbody tr th:only-of-type {\n",
       "        vertical-align: middle;\n",
       "    }\n",
       "\n",
       "    .dataframe tbody tr th {\n",
       "        vertical-align: top;\n",
       "    }\n",
       "\n",
       "    .dataframe thead th {\n",
       "        text-align: right;\n",
       "    }\n",
       "</style>\n",
       "<table border=\"1\" class=\"dataframe\">\n",
       "  <thead>\n",
       "    <tr style=\"text-align: right;\">\n",
       "      <th></th>\n",
       "      <th>datetime</th>\n",
       "      <th>title</th>\n",
       "      <th>description</th>\n",
       "      <th>ticker</th>\n",
       "      <th>company</th>\n",
       "      <th>sector</th>\n",
       "      <th>industry</th>\n",
       "      <th>change_pct</th>\n",
       "      <th>full_text</th>\n",
       "      <th>sentiment_scores</th>\n",
       "      <th>neutral</th>\n",
       "      <th>positive</th>\n",
       "      <th>negative</th>\n",
       "    </tr>\n",
       "  </thead>\n",
       "  <tbody>\n",
       "    <tr>\n",
       "      <th>0</th>\n",
       "      <td>Fri 24 Nov 2023, 12:00AM</td>\n",
       "      <td>OpenAI turmoil exposes threat to Microsoft’s i...</td>\n",
       "      <td>Microsoft chief executive Satya Nadella’s deci...</td>\n",
       "      <td>MSFT</td>\n",
       "      <td>Microsoft Corporation</td>\n",
       "      <td>Technology</td>\n",
       "      <td>Software—Infrastructure</td>\n",
       "      <td>-0.500163</td>\n",
       "      <td>OpenAI turmoil exposes threat to Microsoft’s i...</td>\n",
       "      <td>{'neutral': 0.00075857545, 'positive': 0.99884...</td>\n",
       "      <td>7.585755e-04</td>\n",
       "      <td>0.998844</td>\n",
       "      <td>3.971171e-04</td>\n",
       "    </tr>\n",
       "    <tr>\n",
       "      <th>1</th>\n",
       "      <td>Thu 23 Nov 2023, 07:00PM</td>\n",
       "      <td>10 Can’t Miss Black Friday Electronics Deals a...</td>\n",
       "      <td>The biggest shopping day of the season is upon...</td>\n",
       "      <td>COST</td>\n",
       "      <td>Costco Wholesale Corporation</td>\n",
       "      <td>Consumer Defensive</td>\n",
       "      <td>Discount Stores</td>\n",
       "      <td>0.592448</td>\n",
       "      <td>10 Can’t Miss Black Friday Electronics Deals a...</td>\n",
       "      <td>{'neutral': 0.9996842, 'positive': 2.8879558e-...</td>\n",
       "      <td>9.996842e-01</td>\n",
       "      <td>0.000029</td>\n",
       "      <td>2.869530e-04</td>\n",
       "    </tr>\n",
       "    <tr>\n",
       "      <th>2</th>\n",
       "      <td>Thu 23 Nov 2023, 05:43PM</td>\n",
       "      <td>UPDATE 1-German union Verdi calls for strikes ...</td>\n",
       "      <td>German trade union Verdi has called on members...</td>\n",
       "      <td>AMZN</td>\n",
       "      <td>Amazon.com, Inc.</td>\n",
       "      <td>Consumer Cyclical</td>\n",
       "      <td>Internet Retail</td>\n",
       "      <td>-0.825589</td>\n",
       "      <td>UPDATE 1-German union Verdi calls for strikes ...</td>\n",
       "      <td>{'neutral': 1.4565956e-05, 'positive': 0.99998...</td>\n",
       "      <td>1.456596e-05</td>\n",
       "      <td>0.999985</td>\n",
       "      <td>5.540053e-07</td>\n",
       "    </tr>\n",
       "    <tr>\n",
       "      <th>3</th>\n",
       "      <td>Thu 23 Nov 2023, 04:47PM</td>\n",
       "      <td>Corrections &amp; Amplifications - The success of ...</td>\n",
       "      <td>The success of blood thinners being developed ...</td>\n",
       "      <td>BMY</td>\n",
       "      <td>Bristol-Myers Squibb Company</td>\n",
       "      <td>Healthcare</td>\n",
       "      <td>Drug Manufacturers - General</td>\n",
       "      <td>0.323559</td>\n",
       "      <td>Corrections &amp; Amplifications - The success of ...</td>\n",
       "      <td>{'neutral': 0.6926845, 'positive': 0.029702397...</td>\n",
       "      <td>6.926845e-01</td>\n",
       "      <td>0.029702</td>\n",
       "      <td>2.776131e-01</td>\n",
       "    </tr>\n",
       "    <tr>\n",
       "      <th>4</th>\n",
       "      <td>Thu 23 Nov 2023, 03:25PM</td>\n",
       "      <td>EU mulls wider scope for cybersecurity certifi...</td>\n",
       "      <td>The European Union is considering broadening t...</td>\n",
       "      <td>GOOGL</td>\n",
       "      <td>Alphabet Inc.</td>\n",
       "      <td>Communication Services</td>\n",
       "      <td>Internet Content &amp; Information</td>\n",
       "      <td>-1.429600</td>\n",
       "      <td>EU mulls wider scope for cybersecurity certifi...</td>\n",
       "      <td>{'neutral': 6.0717076e-07, 'positive': 0.99999...</td>\n",
       "      <td>6.071708e-07</td>\n",
       "      <td>0.999999</td>\n",
       "      <td>6.300474e-08</td>\n",
       "    </tr>\n",
       "  </tbody>\n",
       "</table>\n",
       "</div>"
      ],
      "text/plain": [
       "                   datetime  \\\n",
       "0  Fri 24 Nov 2023, 12:00AM   \n",
       "1  Thu 23 Nov 2023, 07:00PM   \n",
       "2  Thu 23 Nov 2023, 05:43PM   \n",
       "3  Thu 23 Nov 2023, 04:47PM   \n",
       "4  Thu 23 Nov 2023, 03:25PM   \n",
       "\n",
       "                                               title  \\\n",
       "0  OpenAI turmoil exposes threat to Microsoft’s i...   \n",
       "1  10 Can’t Miss Black Friday Electronics Deals a...   \n",
       "2  UPDATE 1-German union Verdi calls for strikes ...   \n",
       "3  Corrections & Amplifications - The success of ...   \n",
       "4  EU mulls wider scope for cybersecurity certifi...   \n",
       "\n",
       "                                         description ticker  \\\n",
       "0  Microsoft chief executive Satya Nadella’s deci...   MSFT   \n",
       "1  The biggest shopping day of the season is upon...   COST   \n",
       "2  German trade union Verdi has called on members...   AMZN   \n",
       "3  The success of blood thinners being developed ...    BMY   \n",
       "4  The European Union is considering broadening t...  GOOGL   \n",
       "\n",
       "                        company                  sector  \\\n",
       "0         Microsoft Corporation              Technology   \n",
       "1  Costco Wholesale Corporation      Consumer Defensive   \n",
       "2              Amazon.com, Inc.       Consumer Cyclical   \n",
       "3  Bristol-Myers Squibb Company              Healthcare   \n",
       "4                 Alphabet Inc.  Communication Services   \n",
       "\n",
       "                         industry  change_pct  \\\n",
       "0         Software—Infrastructure   -0.500163   \n",
       "1                 Discount Stores    0.592448   \n",
       "2                 Internet Retail   -0.825589   \n",
       "3    Drug Manufacturers - General    0.323559   \n",
       "4  Internet Content & Information   -1.429600   \n",
       "\n",
       "                                           full_text  \\\n",
       "0  OpenAI turmoil exposes threat to Microsoft’s i...   \n",
       "1  10 Can’t Miss Black Friday Electronics Deals a...   \n",
       "2  UPDATE 1-German union Verdi calls for strikes ...   \n",
       "3  Corrections & Amplifications - The success of ...   \n",
       "4  EU mulls wider scope for cybersecurity certifi...   \n",
       "\n",
       "                                    sentiment_scores       neutral  positive  \\\n",
       "0  {'neutral': 0.00075857545, 'positive': 0.99884...  7.585755e-04  0.998844   \n",
       "1  {'neutral': 0.9996842, 'positive': 2.8879558e-...  9.996842e-01  0.000029   \n",
       "2  {'neutral': 1.4565956e-05, 'positive': 0.99998...  1.456596e-05  0.999985   \n",
       "3  {'neutral': 0.6926845, 'positive': 0.029702397...  6.926845e-01  0.029702   \n",
       "4  {'neutral': 6.0717076e-07, 'positive': 0.99999...  6.071708e-07  0.999999   \n",
       "\n",
       "       negative  \n",
       "0  3.971171e-04  \n",
       "1  2.869530e-04  \n",
       "2  5.540053e-07  \n",
       "3  2.776131e-01  \n",
       "4  6.300474e-08  "
      ]
     },
     "execution_count": 10,
     "metadata": {},
     "output_type": "execute_result"
    }
   ],
   "source": [
    "df.head()"
   ]
  },
  {
   "cell_type": "code",
   "execution_count": 11,
   "metadata": {},
   "outputs": [
    {
     "name": "stderr",
     "output_type": "stream",
     "text": [
      "C:\\Users\\astev\\AppData\\Local\\Temp\\ipykernel_6724\\2108757633.py:2: UserWarning: Could not infer format, so each element will be parsed individually, falling back to `dateutil`. To ensure parsing is consistent and as-expected, please specify a format.\n",
      "  df['datetime'] = pd.to_datetime(df['datetime'])\n"
     ]
    }
   ],
   "source": [
    "# Group by date and calculate average sentiment scores for each day\n",
    "df['datetime'] = pd.to_datetime(df['datetime'])\n",
    "\n"
   ]
  },
  {
   "cell_type": "code",
   "execution_count": 12,
   "metadata": {},
   "outputs": [
    {
     "data": {
      "text/html": [
       "<div>\n",
       "<style scoped>\n",
       "    .dataframe tbody tr th:only-of-type {\n",
       "        vertical-align: middle;\n",
       "    }\n",
       "\n",
       "    .dataframe tbody tr th {\n",
       "        vertical-align: top;\n",
       "    }\n",
       "\n",
       "    .dataframe thead th {\n",
       "        text-align: right;\n",
       "    }\n",
       "</style>\n",
       "<table border=\"1\" class=\"dataframe\">\n",
       "  <thead>\n",
       "    <tr style=\"text-align: right;\">\n",
       "      <th></th>\n",
       "      <th>datetime</th>\n",
       "      <th>title</th>\n",
       "      <th>description</th>\n",
       "      <th>ticker</th>\n",
       "      <th>company</th>\n",
       "      <th>sector</th>\n",
       "      <th>industry</th>\n",
       "      <th>change_pct</th>\n",
       "      <th>full_text</th>\n",
       "      <th>sentiment_scores</th>\n",
       "      <th>neutral</th>\n",
       "      <th>positive</th>\n",
       "      <th>negative</th>\n",
       "    </tr>\n",
       "  </thead>\n",
       "  <tbody>\n",
       "    <tr>\n",
       "      <th>0</th>\n",
       "      <td>2023-11-24 00:00:00</td>\n",
       "      <td>OpenAI turmoil exposes threat to Microsoft’s i...</td>\n",
       "      <td>Microsoft chief executive Satya Nadella’s deci...</td>\n",
       "      <td>MSFT</td>\n",
       "      <td>Microsoft Corporation</td>\n",
       "      <td>Technology</td>\n",
       "      <td>Software—Infrastructure</td>\n",
       "      <td>-0.500163</td>\n",
       "      <td>OpenAI turmoil exposes threat to Microsoft’s i...</td>\n",
       "      <td>{'neutral': 0.00075857545, 'positive': 0.99884...</td>\n",
       "      <td>7.585755e-04</td>\n",
       "      <td>0.998844</td>\n",
       "      <td>3.971171e-04</td>\n",
       "    </tr>\n",
       "    <tr>\n",
       "      <th>1</th>\n",
       "      <td>2023-11-23 19:00:00</td>\n",
       "      <td>10 Can’t Miss Black Friday Electronics Deals a...</td>\n",
       "      <td>The biggest shopping day of the season is upon...</td>\n",
       "      <td>COST</td>\n",
       "      <td>Costco Wholesale Corporation</td>\n",
       "      <td>Consumer Defensive</td>\n",
       "      <td>Discount Stores</td>\n",
       "      <td>0.592448</td>\n",
       "      <td>10 Can’t Miss Black Friday Electronics Deals a...</td>\n",
       "      <td>{'neutral': 0.9996842, 'positive': 2.8879558e-...</td>\n",
       "      <td>9.996842e-01</td>\n",
       "      <td>0.000029</td>\n",
       "      <td>2.869530e-04</td>\n",
       "    </tr>\n",
       "    <tr>\n",
       "      <th>2</th>\n",
       "      <td>2023-11-23 17:43:00</td>\n",
       "      <td>UPDATE 1-German union Verdi calls for strikes ...</td>\n",
       "      <td>German trade union Verdi has called on members...</td>\n",
       "      <td>AMZN</td>\n",
       "      <td>Amazon.com, Inc.</td>\n",
       "      <td>Consumer Cyclical</td>\n",
       "      <td>Internet Retail</td>\n",
       "      <td>-0.825589</td>\n",
       "      <td>UPDATE 1-German union Verdi calls for strikes ...</td>\n",
       "      <td>{'neutral': 1.4565956e-05, 'positive': 0.99998...</td>\n",
       "      <td>1.456596e-05</td>\n",
       "      <td>0.999985</td>\n",
       "      <td>5.540053e-07</td>\n",
       "    </tr>\n",
       "    <tr>\n",
       "      <th>3</th>\n",
       "      <td>2023-11-23 16:47:00</td>\n",
       "      <td>Corrections &amp; Amplifications - The success of ...</td>\n",
       "      <td>The success of blood thinners being developed ...</td>\n",
       "      <td>BMY</td>\n",
       "      <td>Bristol-Myers Squibb Company</td>\n",
       "      <td>Healthcare</td>\n",
       "      <td>Drug Manufacturers - General</td>\n",
       "      <td>0.323559</td>\n",
       "      <td>Corrections &amp; Amplifications - The success of ...</td>\n",
       "      <td>{'neutral': 0.6926845, 'positive': 0.029702397...</td>\n",
       "      <td>6.926845e-01</td>\n",
       "      <td>0.029702</td>\n",
       "      <td>2.776131e-01</td>\n",
       "    </tr>\n",
       "    <tr>\n",
       "      <th>4</th>\n",
       "      <td>2023-11-23 15:25:00</td>\n",
       "      <td>EU mulls wider scope for cybersecurity certifi...</td>\n",
       "      <td>The European Union is considering broadening t...</td>\n",
       "      <td>GOOGL</td>\n",
       "      <td>Alphabet Inc.</td>\n",
       "      <td>Communication Services</td>\n",
       "      <td>Internet Content &amp; Information</td>\n",
       "      <td>-1.429600</td>\n",
       "      <td>EU mulls wider scope for cybersecurity certifi...</td>\n",
       "      <td>{'neutral': 6.0717076e-07, 'positive': 0.99999...</td>\n",
       "      <td>6.071708e-07</td>\n",
       "      <td>0.999999</td>\n",
       "      <td>6.300474e-08</td>\n",
       "    </tr>\n",
       "  </tbody>\n",
       "</table>\n",
       "</div>"
      ],
      "text/plain": [
       "             datetime                                              title  \\\n",
       "0 2023-11-24 00:00:00  OpenAI turmoil exposes threat to Microsoft’s i...   \n",
       "1 2023-11-23 19:00:00  10 Can’t Miss Black Friday Electronics Deals a...   \n",
       "2 2023-11-23 17:43:00  UPDATE 1-German union Verdi calls for strikes ...   \n",
       "3 2023-11-23 16:47:00  Corrections & Amplifications - The success of ...   \n",
       "4 2023-11-23 15:25:00  EU mulls wider scope for cybersecurity certifi...   \n",
       "\n",
       "                                         description ticker  \\\n",
       "0  Microsoft chief executive Satya Nadella’s deci...   MSFT   \n",
       "1  The biggest shopping day of the season is upon...   COST   \n",
       "2  German trade union Verdi has called on members...   AMZN   \n",
       "3  The success of blood thinners being developed ...    BMY   \n",
       "4  The European Union is considering broadening t...  GOOGL   \n",
       "\n",
       "                        company                  sector  \\\n",
       "0         Microsoft Corporation              Technology   \n",
       "1  Costco Wholesale Corporation      Consumer Defensive   \n",
       "2              Amazon.com, Inc.       Consumer Cyclical   \n",
       "3  Bristol-Myers Squibb Company              Healthcare   \n",
       "4                 Alphabet Inc.  Communication Services   \n",
       "\n",
       "                         industry  change_pct  \\\n",
       "0         Software—Infrastructure   -0.500163   \n",
       "1                 Discount Stores    0.592448   \n",
       "2                 Internet Retail   -0.825589   \n",
       "3    Drug Manufacturers - General    0.323559   \n",
       "4  Internet Content & Information   -1.429600   \n",
       "\n",
       "                                           full_text  \\\n",
       "0  OpenAI turmoil exposes threat to Microsoft’s i...   \n",
       "1  10 Can’t Miss Black Friday Electronics Deals a...   \n",
       "2  UPDATE 1-German union Verdi calls for strikes ...   \n",
       "3  Corrections & Amplifications - The success of ...   \n",
       "4  EU mulls wider scope for cybersecurity certifi...   \n",
       "\n",
       "                                    sentiment_scores       neutral  positive  \\\n",
       "0  {'neutral': 0.00075857545, 'positive': 0.99884...  7.585755e-04  0.998844   \n",
       "1  {'neutral': 0.9996842, 'positive': 2.8879558e-...  9.996842e-01  0.000029   \n",
       "2  {'neutral': 1.4565956e-05, 'positive': 0.99998...  1.456596e-05  0.999985   \n",
       "3  {'neutral': 0.6926845, 'positive': 0.029702397...  6.926845e-01  0.029702   \n",
       "4  {'neutral': 6.0717076e-07, 'positive': 0.99999...  6.071708e-07  0.999999   \n",
       "\n",
       "       negative  \n",
       "0  3.971171e-04  \n",
       "1  2.869530e-04  \n",
       "2  5.540053e-07  \n",
       "3  2.776131e-01  \n",
       "4  6.300474e-08  "
      ]
     },
     "execution_count": 12,
     "metadata": {},
     "output_type": "execute_result"
    }
   ],
   "source": [
    "df.head()"
   ]
  },
  {
   "cell_type": "code",
   "execution_count": 13,
   "metadata": {},
   "outputs": [],
   "source": [
    "daily_sentiment = df.groupby(df['datetime'].dt.date)[['neutral', 'positive', 'negative']].mean()"
   ]
  },
  {
   "cell_type": "code",
   "execution_count": 14,
   "metadata": {},
   "outputs": [
    {
     "name": "stdout",
     "output_type": "stream",
     "text": [
      "             neutral  positive  negative\n",
      "datetime                                \n",
      "2022-05-02  0.424826  0.219777  0.355397\n",
      "2022-05-03  0.501537  0.310365  0.188098\n",
      "2022-05-04  0.474070  0.376741  0.149190\n",
      "2022-05-05  0.519249  0.297318  0.183434\n",
      "2022-05-06  0.474621  0.327590  0.197788\n",
      "...              ...       ...       ...\n",
      "2023-11-20  0.513478  0.343111  0.143411\n",
      "2023-11-21  0.431269  0.343094  0.225637\n",
      "2023-11-22  0.343652  0.375047  0.281301\n",
      "2023-11-23  0.529288  0.245217  0.225494\n",
      "2023-11-24  0.000759  0.998844  0.000397\n",
      "\n",
      "[562 rows x 3 columns]\n"
     ]
    }
   ],
   "source": [
    "print(daily_sentiment)"
   ]
  },
  {
   "cell_type": "code",
   "execution_count": 15,
   "metadata": {},
   "outputs": [],
   "source": [
    "# Reset the index to make 'date' a column\n",
    "daily_sentiment = daily_sentiment.reset_index()\n",
    "daily_sentiment.rename(columns={'index': 'date'}, inplace=True)"
   ]
  },
  {
   "cell_type": "code",
   "execution_count": 16,
   "metadata": {},
   "outputs": [
    {
     "name": "stdout",
     "output_type": "stream",
     "text": [
      "       datetime   neutral  positive  negative\n",
      "0    2022-05-02  0.424826  0.219777  0.355397\n",
      "1    2022-05-03  0.501537  0.310365  0.188098\n",
      "2    2022-05-04  0.474070  0.376741  0.149190\n",
      "3    2022-05-05  0.519249  0.297318  0.183434\n",
      "4    2022-05-06  0.474621  0.327590  0.197788\n",
      "..          ...       ...       ...       ...\n",
      "557  2023-11-20  0.513478  0.343111  0.143411\n",
      "558  2023-11-21  0.431269  0.343094  0.225637\n",
      "559  2023-11-22  0.343652  0.375047  0.281301\n",
      "560  2023-11-23  0.529288  0.245217  0.225494\n",
      "561  2023-11-24  0.000759  0.998844  0.000397\n",
      "\n",
      "[562 rows x 4 columns]\n"
     ]
    }
   ],
   "source": [
    "print(daily_sentiment)"
   ]
  },
  {
   "cell_type": "code",
   "execution_count": 17,
   "metadata": {},
   "outputs": [],
   "source": [
    "# Save the daily sentiment scores to a CSV file\n",
    "output_path = 'daily_sentiment_scores_both.csv'\n",
    "daily_sentiment.to_csv(output_path, index=True)"
   ]
  },
  {
   "cell_type": "code",
   "execution_count": 18,
   "metadata": {},
   "outputs": [
    {
     "name": "stdout",
     "output_type": "stream",
     "text": [
      "     datetime   neutral  positive  negative\n",
      "0  2022-05-02  0.424826  0.219777  0.355397\n",
      "1  2022-05-03  0.501537  0.310365  0.188098\n",
      "2  2022-05-04  0.474070  0.376741  0.149190\n",
      "3  2022-05-05  0.519249  0.297318  0.183434\n",
      "4  2022-05-06  0.474621  0.327590  0.197788\n"
     ]
    }
   ],
   "source": [
    "# Print the first few rows of the result\n",
    "print(daily_sentiment.head())"
   ]
  }
 ],
 "metadata": {
  "kernelspec": {
   "display_name": "Python 3",
   "language": "python",
   "name": "python3"
  },
  "language_info": {
   "codemirror_mode": {
    "name": "ipython",
    "version": 3
   },
   "file_extension": ".py",
   "mimetype": "text/x-python",
   "name": "python",
   "nbconvert_exporter": "python",
   "pygments_lexer": "ipython3",
   "version": "3.10.9"
  }
 },
 "nbformat": 4,
 "nbformat_minor": 2
}
