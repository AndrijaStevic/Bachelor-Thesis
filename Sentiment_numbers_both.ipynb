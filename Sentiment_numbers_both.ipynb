{
 "cells": [
  {
   "cell_type": "code",
   "execution_count": 1,
   "metadata": {},
   "outputs": [],
   "source": [
    "import pandas as pd\n",
    "from transformers import BertTokenizer, BertForSequenceClassification\n",
    "from transformers import pipeline\n",
    "import torch\n",
    "from tqdm import tqdm"
   ]
  },
  {
   "cell_type": "code",
   "execution_count": 2,
   "metadata": {},
   "outputs": [],
   "source": [
    "# Load the dataset\n",
    "data_path = 'financialNews.csv'\n",
    "df = pd.read_csv(data_path)"
   ]
  },
  {
   "cell_type": "code",
   "execution_count": 3,
   "metadata": {},
   "outputs": [],
   "source": [
    "# Drop duplicate descriptions and filter out unwanted rows\n",
    "df = df.drop_duplicates(subset='description', keep='first')\n",
    "df = df[df['description'].str.len() >= 30]  # Keep descriptions with at least 30 characters\n",
    "df = df[~df['description'].str.startswith(('By', '(Update'))]  # Exclude descriptions starting with \"By\" or \"(Update\""
   ]
  },
  {
   "cell_type": "code",
   "execution_count": 4,
   "metadata": {},
   "outputs": [
    {
     "data": {
      "text/plain": [
       "72165"
      ]
     },
     "execution_count": 4,
     "metadata": {},
     "output_type": "execute_result"
    }
   ],
   "source": [
    "len(df)"
   ]
  },
  {
   "cell_type": "code",
   "execution_count": 5,
   "metadata": {},
   "outputs": [],
   "source": [
    "# Initialize FinBERT model and tokenizer\n",
    "model_name = \"yiyanghkust/finbert-tone\"\n",
    "tokenizer = BertTokenizer.from_pretrained(model_name)\n",
    "model = BertForSequenceClassification.from_pretrained(model_name)\n",
    "sentiment_analyzer = pipeline(\"sentiment-analysis\", model=model, tokenizer=tokenizer)"
   ]
  },
  {
   "cell_type": "code",
   "execution_count": 6,
   "metadata": {},
   "outputs": [],
   "source": [
    "# Function to compute sentiment scores\n",
    "def compute_sentiment_scores(text):\n",
    "    inputs = tokenizer(text, return_tensors=\"pt\", padding=True, truncation=True, max_length=512)\n",
    "    outputs = model(**inputs)\n",
    "    scores = torch.softmax(outputs.logits, dim=1).detach().numpy()[0]\n",
    "    return {\n",
    "        \"neutral\": scores[0],\n",
    "        \"positive\": scores[1],\n",
    "        \"negative\": scores[2]\n",
    "    }"
   ]
  },
  {
   "cell_type": "code",
   "execution_count": 7,
   "metadata": {},
   "outputs": [
    {
     "name": "stderr",
     "output_type": "stream",
     "text": [
      "Processing Sentiments: 100%|██████████| 72165/72165 [2:24:39<00:00,  8.31it/s]  \n"
     ]
    }
   ],
   "source": [
    "# Apply sentiment analysis to each description with tqdm\n",
    "tqdm.pandas(desc=\"Processing Sentiments\")\n",
    "df['sentiment_scores'] = df['description'].progress_apply(compute_sentiment_scores)"
   ]
  },
  {
   "cell_type": "code",
   "execution_count": 8,
   "metadata": {},
   "outputs": [],
   "source": [
    "# Extract sentiment components into separate columns\n",
    "df['neutral'] = df['sentiment_scores'].apply(lambda x: x['neutral'])\n",
    "df['positive'] = df['sentiment_scores'].apply(lambda x: x['positive'])\n",
    "df['negative'] = df['sentiment_scores'].apply(lambda x: x['negative'])"
   ]
  },
  {
   "cell_type": "code",
   "execution_count": 13,
   "metadata": {},
   "outputs": [
    {
     "data": {
      "text/html": [
       "<div>\n",
       "<style scoped>\n",
       "    .dataframe tbody tr th:only-of-type {\n",
       "        vertical-align: middle;\n",
       "    }\n",
       "\n",
       "    .dataframe tbody tr th {\n",
       "        vertical-align: top;\n",
       "    }\n",
       "\n",
       "    .dataframe thead th {\n",
       "        text-align: right;\n",
       "    }\n",
       "</style>\n",
       "<table border=\"1\" class=\"dataframe\">\n",
       "  <thead>\n",
       "    <tr style=\"text-align: right;\">\n",
       "      <th></th>\n",
       "      <th>datetime</th>\n",
       "      <th>title</th>\n",
       "      <th>description</th>\n",
       "      <th>ticker</th>\n",
       "      <th>company</th>\n",
       "      <th>sector</th>\n",
       "      <th>industry</th>\n",
       "      <th>change_pct</th>\n",
       "      <th>sentiment_scores</th>\n",
       "      <th>neutral</th>\n",
       "      <th>positive</th>\n",
       "      <th>negative</th>\n",
       "    </tr>\n",
       "  </thead>\n",
       "  <tbody>\n",
       "    <tr>\n",
       "      <th>0</th>\n",
       "      <td>2023-11-24 00:00:00</td>\n",
       "      <td>OpenAI turmoil exposes threat to Microsoft’s i...</td>\n",
       "      <td>Microsoft chief executive Satya Nadella’s deci...</td>\n",
       "      <td>MSFT</td>\n",
       "      <td>Microsoft Corporation</td>\n",
       "      <td>Technology</td>\n",
       "      <td>Software—Infrastructure</td>\n",
       "      <td>-0.500163</td>\n",
       "      <td>{'neutral': 1.2681854e-06, 'positive': 0.99999...</td>\n",
       "      <td>1.268185e-06</td>\n",
       "      <td>9.999974e-01</td>\n",
       "      <td>1.340741e-06</td>\n",
       "    </tr>\n",
       "    <tr>\n",
       "      <th>1</th>\n",
       "      <td>2023-11-23 19:00:00</td>\n",
       "      <td>10 Can’t Miss Black Friday Electronics Deals a...</td>\n",
       "      <td>The biggest shopping day of the season is upon...</td>\n",
       "      <td>COST</td>\n",
       "      <td>Costco Wholesale Corporation</td>\n",
       "      <td>Consumer Defensive</td>\n",
       "      <td>Discount Stores</td>\n",
       "      <td>0.592448</td>\n",
       "      <td>{'neutral': 0.9999901, 'positive': 3.301402e-0...</td>\n",
       "      <td>9.999901e-01</td>\n",
       "      <td>3.301402e-07</td>\n",
       "      <td>9.529862e-06</td>\n",
       "    </tr>\n",
       "    <tr>\n",
       "      <th>2</th>\n",
       "      <td>2023-11-23 17:43:00</td>\n",
       "      <td>UPDATE 1-German union Verdi calls for strikes ...</td>\n",
       "      <td>German trade union Verdi has called on members...</td>\n",
       "      <td>AMZN</td>\n",
       "      <td>Amazon.com, Inc.</td>\n",
       "      <td>Consumer Cyclical</td>\n",
       "      <td>Internet Retail</td>\n",
       "      <td>-0.825589</td>\n",
       "      <td>{'neutral': 2.7610524e-06, 'positive': 0.99999...</td>\n",
       "      <td>2.761052e-06</td>\n",
       "      <td>9.999967e-01</td>\n",
       "      <td>6.156512e-07</td>\n",
       "    </tr>\n",
       "    <tr>\n",
       "      <th>3</th>\n",
       "      <td>2023-11-23 16:47:00</td>\n",
       "      <td>Corrections &amp; Amplifications - The success of ...</td>\n",
       "      <td>The success of blood thinners being developed ...</td>\n",
       "      <td>BMY</td>\n",
       "      <td>Bristol-Myers Squibb Company</td>\n",
       "      <td>Healthcare</td>\n",
       "      <td>Drug Manufacturers - General</td>\n",
       "      <td>0.323559</td>\n",
       "      <td>{'neutral': 0.18199356, 'positive': 0.00074971...</td>\n",
       "      <td>1.819936e-01</td>\n",
       "      <td>7.497176e-04</td>\n",
       "      <td>8.172567e-01</td>\n",
       "    </tr>\n",
       "    <tr>\n",
       "      <th>4</th>\n",
       "      <td>2023-11-23 15:25:00</td>\n",
       "      <td>EU mulls wider scope for cybersecurity certifi...</td>\n",
       "      <td>The European Union is considering broadening t...</td>\n",
       "      <td>GOOGL</td>\n",
       "      <td>Alphabet Inc.</td>\n",
       "      <td>Communication Services</td>\n",
       "      <td>Internet Content &amp; Information</td>\n",
       "      <td>-1.429600</td>\n",
       "      <td>{'neutral': 1.5444941e-07, 'positive': 0.99999...</td>\n",
       "      <td>1.544494e-07</td>\n",
       "      <td>9.999999e-01</td>\n",
       "      <td>4.542047e-08</td>\n",
       "    </tr>\n",
       "  </tbody>\n",
       "</table>\n",
       "</div>"
      ],
      "text/plain": [
       "             datetime                                              title  \\\n",
       "0 2023-11-24 00:00:00  OpenAI turmoil exposes threat to Microsoft’s i...   \n",
       "1 2023-11-23 19:00:00  10 Can’t Miss Black Friday Electronics Deals a...   \n",
       "2 2023-11-23 17:43:00  UPDATE 1-German union Verdi calls for strikes ...   \n",
       "3 2023-11-23 16:47:00  Corrections & Amplifications - The success of ...   \n",
       "4 2023-11-23 15:25:00  EU mulls wider scope for cybersecurity certifi...   \n",
       "\n",
       "                                         description ticker  \\\n",
       "0  Microsoft chief executive Satya Nadella’s deci...   MSFT   \n",
       "1  The biggest shopping day of the season is upon...   COST   \n",
       "2  German trade union Verdi has called on members...   AMZN   \n",
       "3  The success of blood thinners being developed ...    BMY   \n",
       "4  The European Union is considering broadening t...  GOOGL   \n",
       "\n",
       "                        company                  sector  \\\n",
       "0         Microsoft Corporation              Technology   \n",
       "1  Costco Wholesale Corporation      Consumer Defensive   \n",
       "2              Amazon.com, Inc.       Consumer Cyclical   \n",
       "3  Bristol-Myers Squibb Company              Healthcare   \n",
       "4                 Alphabet Inc.  Communication Services   \n",
       "\n",
       "                         industry  change_pct  \\\n",
       "0         Software—Infrastructure   -0.500163   \n",
       "1                 Discount Stores    0.592448   \n",
       "2                 Internet Retail   -0.825589   \n",
       "3    Drug Manufacturers - General    0.323559   \n",
       "4  Internet Content & Information   -1.429600   \n",
       "\n",
       "                                    sentiment_scores       neutral  \\\n",
       "0  {'neutral': 1.2681854e-06, 'positive': 0.99999...  1.268185e-06   \n",
       "1  {'neutral': 0.9999901, 'positive': 3.301402e-0...  9.999901e-01   \n",
       "2  {'neutral': 2.7610524e-06, 'positive': 0.99999...  2.761052e-06   \n",
       "3  {'neutral': 0.18199356, 'positive': 0.00074971...  1.819936e-01   \n",
       "4  {'neutral': 1.5444941e-07, 'positive': 0.99999...  1.544494e-07   \n",
       "\n",
       "       positive      negative  \n",
       "0  9.999974e-01  1.340741e-06  \n",
       "1  3.301402e-07  9.529862e-06  \n",
       "2  9.999967e-01  6.156512e-07  \n",
       "3  7.497176e-04  8.172567e-01  \n",
       "4  9.999999e-01  4.542047e-08  "
      ]
     },
     "execution_count": 13,
     "metadata": {},
     "output_type": "execute_result"
    }
   ],
   "source": [
    "df.head()"
   ]
  },
  {
   "cell_type": "code",
   "execution_count": 14,
   "metadata": {},
   "outputs": [],
   "source": [
    "# Group by date and calculate average sentiment scores for each day\n",
    "df['datetime'] = pd.to_datetime(df['datetime'])\n",
    "\n"
   ]
  },
  {
   "cell_type": "code",
   "execution_count": 15,
   "metadata": {},
   "outputs": [
    {
     "data": {
      "text/html": [
       "<div>\n",
       "<style scoped>\n",
       "    .dataframe tbody tr th:only-of-type {\n",
       "        vertical-align: middle;\n",
       "    }\n",
       "\n",
       "    .dataframe tbody tr th {\n",
       "        vertical-align: top;\n",
       "    }\n",
       "\n",
       "    .dataframe thead th {\n",
       "        text-align: right;\n",
       "    }\n",
       "</style>\n",
       "<table border=\"1\" class=\"dataframe\">\n",
       "  <thead>\n",
       "    <tr style=\"text-align: right;\">\n",
       "      <th></th>\n",
       "      <th>datetime</th>\n",
       "      <th>title</th>\n",
       "      <th>description</th>\n",
       "      <th>ticker</th>\n",
       "      <th>company</th>\n",
       "      <th>sector</th>\n",
       "      <th>industry</th>\n",
       "      <th>change_pct</th>\n",
       "      <th>sentiment_scores</th>\n",
       "      <th>neutral</th>\n",
       "      <th>positive</th>\n",
       "      <th>negative</th>\n",
       "    </tr>\n",
       "  </thead>\n",
       "  <tbody>\n",
       "    <tr>\n",
       "      <th>0</th>\n",
       "      <td>2023-11-24 00:00:00</td>\n",
       "      <td>OpenAI turmoil exposes threat to Microsoft’s i...</td>\n",
       "      <td>Microsoft chief executive Satya Nadella’s deci...</td>\n",
       "      <td>MSFT</td>\n",
       "      <td>Microsoft Corporation</td>\n",
       "      <td>Technology</td>\n",
       "      <td>Software—Infrastructure</td>\n",
       "      <td>-0.500163</td>\n",
       "      <td>{'neutral': 1.2681854e-06, 'positive': 0.99999...</td>\n",
       "      <td>1.268185e-06</td>\n",
       "      <td>9.999974e-01</td>\n",
       "      <td>1.340741e-06</td>\n",
       "    </tr>\n",
       "    <tr>\n",
       "      <th>1</th>\n",
       "      <td>2023-11-23 19:00:00</td>\n",
       "      <td>10 Can’t Miss Black Friday Electronics Deals a...</td>\n",
       "      <td>The biggest shopping day of the season is upon...</td>\n",
       "      <td>COST</td>\n",
       "      <td>Costco Wholesale Corporation</td>\n",
       "      <td>Consumer Defensive</td>\n",
       "      <td>Discount Stores</td>\n",
       "      <td>0.592448</td>\n",
       "      <td>{'neutral': 0.9999901, 'positive': 3.301402e-0...</td>\n",
       "      <td>9.999901e-01</td>\n",
       "      <td>3.301402e-07</td>\n",
       "      <td>9.529862e-06</td>\n",
       "    </tr>\n",
       "    <tr>\n",
       "      <th>2</th>\n",
       "      <td>2023-11-23 17:43:00</td>\n",
       "      <td>UPDATE 1-German union Verdi calls for strikes ...</td>\n",
       "      <td>German trade union Verdi has called on members...</td>\n",
       "      <td>AMZN</td>\n",
       "      <td>Amazon.com, Inc.</td>\n",
       "      <td>Consumer Cyclical</td>\n",
       "      <td>Internet Retail</td>\n",
       "      <td>-0.825589</td>\n",
       "      <td>{'neutral': 2.7610524e-06, 'positive': 0.99999...</td>\n",
       "      <td>2.761052e-06</td>\n",
       "      <td>9.999967e-01</td>\n",
       "      <td>6.156512e-07</td>\n",
       "    </tr>\n",
       "    <tr>\n",
       "      <th>3</th>\n",
       "      <td>2023-11-23 16:47:00</td>\n",
       "      <td>Corrections &amp; Amplifications - The success of ...</td>\n",
       "      <td>The success of blood thinners being developed ...</td>\n",
       "      <td>BMY</td>\n",
       "      <td>Bristol-Myers Squibb Company</td>\n",
       "      <td>Healthcare</td>\n",
       "      <td>Drug Manufacturers - General</td>\n",
       "      <td>0.323559</td>\n",
       "      <td>{'neutral': 0.18199356, 'positive': 0.00074971...</td>\n",
       "      <td>1.819936e-01</td>\n",
       "      <td>7.497176e-04</td>\n",
       "      <td>8.172567e-01</td>\n",
       "    </tr>\n",
       "    <tr>\n",
       "      <th>4</th>\n",
       "      <td>2023-11-23 15:25:00</td>\n",
       "      <td>EU mulls wider scope for cybersecurity certifi...</td>\n",
       "      <td>The European Union is considering broadening t...</td>\n",
       "      <td>GOOGL</td>\n",
       "      <td>Alphabet Inc.</td>\n",
       "      <td>Communication Services</td>\n",
       "      <td>Internet Content &amp; Information</td>\n",
       "      <td>-1.429600</td>\n",
       "      <td>{'neutral': 1.5444941e-07, 'positive': 0.99999...</td>\n",
       "      <td>1.544494e-07</td>\n",
       "      <td>9.999999e-01</td>\n",
       "      <td>4.542047e-08</td>\n",
       "    </tr>\n",
       "  </tbody>\n",
       "</table>\n",
       "</div>"
      ],
      "text/plain": [
       "             datetime                                              title  \\\n",
       "0 2023-11-24 00:00:00  OpenAI turmoil exposes threat to Microsoft’s i...   \n",
       "1 2023-11-23 19:00:00  10 Can’t Miss Black Friday Electronics Deals a...   \n",
       "2 2023-11-23 17:43:00  UPDATE 1-German union Verdi calls for strikes ...   \n",
       "3 2023-11-23 16:47:00  Corrections & Amplifications - The success of ...   \n",
       "4 2023-11-23 15:25:00  EU mulls wider scope for cybersecurity certifi...   \n",
       "\n",
       "                                         description ticker  \\\n",
       "0  Microsoft chief executive Satya Nadella’s deci...   MSFT   \n",
       "1  The biggest shopping day of the season is upon...   COST   \n",
       "2  German trade union Verdi has called on members...   AMZN   \n",
       "3  The success of blood thinners being developed ...    BMY   \n",
       "4  The European Union is considering broadening t...  GOOGL   \n",
       "\n",
       "                        company                  sector  \\\n",
       "0         Microsoft Corporation              Technology   \n",
       "1  Costco Wholesale Corporation      Consumer Defensive   \n",
       "2              Amazon.com, Inc.       Consumer Cyclical   \n",
       "3  Bristol-Myers Squibb Company              Healthcare   \n",
       "4                 Alphabet Inc.  Communication Services   \n",
       "\n",
       "                         industry  change_pct  \\\n",
       "0         Software—Infrastructure   -0.500163   \n",
       "1                 Discount Stores    0.592448   \n",
       "2                 Internet Retail   -0.825589   \n",
       "3    Drug Manufacturers - General    0.323559   \n",
       "4  Internet Content & Information   -1.429600   \n",
       "\n",
       "                                    sentiment_scores       neutral  \\\n",
       "0  {'neutral': 1.2681854e-06, 'positive': 0.99999...  1.268185e-06   \n",
       "1  {'neutral': 0.9999901, 'positive': 3.301402e-0...  9.999901e-01   \n",
       "2  {'neutral': 2.7610524e-06, 'positive': 0.99999...  2.761052e-06   \n",
       "3  {'neutral': 0.18199356, 'positive': 0.00074971...  1.819936e-01   \n",
       "4  {'neutral': 1.5444941e-07, 'positive': 0.99999...  1.544494e-07   \n",
       "\n",
       "       positive      negative  \n",
       "0  9.999974e-01  1.340741e-06  \n",
       "1  3.301402e-07  9.529862e-06  \n",
       "2  9.999967e-01  6.156512e-07  \n",
       "3  7.497176e-04  8.172567e-01  \n",
       "4  9.999999e-01  4.542047e-08  "
      ]
     },
     "execution_count": 15,
     "metadata": {},
     "output_type": "execute_result"
    }
   ],
   "source": [
    "df.head()"
   ]
  },
  {
   "cell_type": "code",
   "execution_count": 16,
   "metadata": {},
   "outputs": [],
   "source": [
    "daily_sentiment = df.groupby(df['datetime'].dt.date)[['neutral', 'positive', 'negative']].mean()"
   ]
  },
  {
   "cell_type": "code",
   "execution_count": 17,
   "metadata": {},
   "outputs": [
    {
     "name": "stdout",
     "output_type": "stream",
     "text": [
      "             neutral  positive  negative\n",
      "datetime                                \n",
      "2022-05-02  0.455935  0.202893  0.341171\n",
      "2022-05-03  0.528152  0.319844  0.152004\n",
      "2022-05-04  0.489388  0.370827  0.139785\n",
      "2022-05-05  0.556980  0.285677  0.157343\n",
      "2022-05-06  0.578342  0.254266  0.167392\n",
      "...              ...       ...       ...\n",
      "2023-11-20  0.597135  0.261245  0.141620\n",
      "2023-11-21  0.429709  0.352886  0.217406\n",
      "2023-11-22  0.392676  0.329357  0.277967\n",
      "2023-11-23  0.539126  0.246439  0.214435\n",
      "2023-11-24  0.000001  0.999997  0.000001\n",
      "\n",
      "[562 rows x 3 columns]\n"
     ]
    }
   ],
   "source": [
    "print(daily_sentiment)"
   ]
  },
  {
   "cell_type": "code",
   "execution_count": 18,
   "metadata": {},
   "outputs": [],
   "source": [
    "# Reset the index to make 'date' a column\n",
    "daily_sentiment = daily_sentiment.reset_index()\n",
    "daily_sentiment.rename(columns={'index': 'date'}, inplace=True)"
   ]
  },
  {
   "cell_type": "code",
   "execution_count": 19,
   "metadata": {},
   "outputs": [
    {
     "name": "stdout",
     "output_type": "stream",
     "text": [
      "       datetime   neutral  positive  negative\n",
      "0    2022-05-02  0.455935  0.202893  0.341171\n",
      "1    2022-05-03  0.528152  0.319844  0.152004\n",
      "2    2022-05-04  0.489388  0.370827  0.139785\n",
      "3    2022-05-05  0.556980  0.285677  0.157343\n",
      "4    2022-05-06  0.578342  0.254266  0.167392\n",
      "..          ...       ...       ...       ...\n",
      "557  2023-11-20  0.597135  0.261245  0.141620\n",
      "558  2023-11-21  0.429709  0.352886  0.217406\n",
      "559  2023-11-22  0.392676  0.329357  0.277967\n",
      "560  2023-11-23  0.539126  0.246439  0.214435\n",
      "561  2023-11-24  0.000001  0.999997  0.000001\n",
      "\n",
      "[562 rows x 4 columns]\n"
     ]
    }
   ],
   "source": [
    "print(daily_sentiment)"
   ]
  },
  {
   "cell_type": "code",
   "execution_count": 20,
   "metadata": {},
   "outputs": [],
   "source": [
    "# Save the daily sentiment scores to a CSV file\n",
    "output_path = 'daily_sentiment_scores.csv'\n",
    "daily_sentiment.to_csv(output_path, index=True)"
   ]
  },
  {
   "cell_type": "code",
   "execution_count": null,
   "metadata": {},
   "outputs": [],
   "source": []
  }
 ],
 "metadata": {
  "kernelspec": {
   "display_name": "Python 3",
   "language": "python",
   "name": "python3"
  },
  "language_info": {
   "codemirror_mode": {
    "name": "ipython",
    "version": 3
   },
   "file_extension": ".py",
   "mimetype": "text/x-python",
   "name": "python",
   "nbconvert_exporter": "python",
   "pygments_lexer": "ipython3",
   "version": "3.10.9"
  }
 },
 "nbformat": 4,
 "nbformat_minor": 2
}
