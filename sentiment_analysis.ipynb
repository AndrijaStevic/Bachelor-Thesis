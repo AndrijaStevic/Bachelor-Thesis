{
  "nbformat": 4,
  "nbformat_minor": 0,
  "metadata": {
    "colab": {
      "provenance": []
    },
    "kernelspec": {
      "name": "python3",
      "display_name": "Python 3"
    },
    "language_info": {
      "name": "python"
    }
  },
  "cells": [
    {
      "cell_type": "code",
      "source": [
        "import pandas as pd\n",
        "from transformers import pipeline\n",
        "from tqdm import tqdm"
      ],
      "metadata": {
        "id": "bFZYhcnHsqXa"
      },
      "execution_count": 18,
      "outputs": []
    },
    {
      "cell_type": "code",
      "source": [
        "# Load the dataset\n",
        "file_path = 'financialNews.csv'\n",
        "df = pd.read_csv(file_path)"
      ],
      "metadata": {
        "id": "65SzokgBs32v"
      },
      "execution_count": 9,
      "outputs": []
    },
    {
      "cell_type": "code",
      "source": [
        "# Step 1: Remove duplicate articles\n",
        "df = df.drop_duplicates(subset='description', keep='first')"
      ],
      "metadata": {
        "id": "uZGagc48vW-J"
      },
      "execution_count": 10,
      "outputs": []
    },
    {
      "cell_type": "code",
      "source": [
        "# Step 2: Filter descriptions\n",
        "df = df[~df['description'].str.startswith(\"By\")]  # Exclude rows where description starts with \"By\"\n",
        "df = df[~df['description'].str.startswith(\"(Update\")]\n",
        "df = df[df['description'].str.len() >=30]  # Exclude rows with descriptions shorter than 40 characters"
      ],
      "metadata": {
        "id": "kGS5qsf1tEai"
      },
      "execution_count": 11,
      "outputs": []
    },
    {
      "cell_type": "code",
      "source": [
        "# Step 3: Reset index for easier processing\n",
        "df.reset_index(drop=True, inplace=True)"
      ],
      "metadata": {
        "id": "6bEDYoFmtGLK"
      },
      "execution_count": 12,
      "outputs": []
    },
    {
      "cell_type": "code",
      "source": [
        "# Step 4: Initialize FinBERT sentiment analysis pipeline\n",
        "finbert = pipeline(\"sentiment-analysis\", model=\"yiyanghkust/finbert-tone\", tokenizer=\"yiyanghkust/finbert-tone\")"
      ],
      "metadata": {
        "id": "feCkK858tHgz"
      },
      "execution_count": 14,
      "outputs": []
    },
    {
      "cell_type": "code",
      "source": [
        "# Step 5: Apply sentiment analysis in batches (modified)\n",
        "def classify_sentiment_batch(descriptions):\n",
        "    results = finbert(list(descriptions), truncation=True, max_length=512)  # Process batch as a list, truncate to 512 tokens\n",
        "    return [result['label'] for result in results]"
      ],
      "metadata": {
        "id": "rp47Gkr0tMIu"
      },
      "execution_count": 23,
      "outputs": []
    },
    {
      "cell_type": "code",
      "source": [
        "# Set batch size\n",
        "batch_size = 16  # Adjust based on memory availability and performance"
      ],
      "metadata": {
        "id": "zKGnGgB3vcLb"
      },
      "execution_count": 24,
      "outputs": []
    },
    {
      "cell_type": "code",
      "source": [
        "# Apply batch processing\n",
        "sentiments = []\n",
        "for i in tqdm(range(0, len(df), batch_size), desc=\"Processing Batches\"):\n",
        "    batch = df['description'][i:i+batch_size]\n",
        "    sentiments.extend(classify_sentiment_batch(batch))"
      ],
      "metadata": {
        "colab": {
          "base_uri": "https://localhost:8080/"
        },
        "id": "EJEIdJNZtOMR",
        "outputId": "8f3c58fa-d799-4122-8400-6c3d717da956"
      },
      "execution_count": 25,
      "outputs": [
        {
          "output_type": "stream",
          "name": "stderr",
          "text": [
            "Processing Batches: 100%|██████████| 4511/4511 [6:25:19<00:00,  5.13s/it]\n"
          ]
        }
      ]
    },
    {
      "cell_type": "code",
      "source": [
        "# Add sentiment results to the dataframe\n",
        "df['sentiment'] = sentiments"
      ],
      "metadata": {
        "id": "bD3ygTcRvfzo"
      },
      "execution_count": 26,
      "outputs": []
    },
    {
      "cell_type": "code",
      "source": [
        "# Step 6: Save the results\n",
        "output_file = 'sentiment_analysis_results.csv'\n",
        "df.to_csv(output_file, index=False)\n",
        "\n",
        "print(f\"Sentiment analysis completed. Results saved to {output_file}\")"
      ],
      "metadata": {
        "colab": {
          "base_uri": "https://localhost:8080/"
        },
        "id": "tWZtAeR_tWY1",
        "outputId": "a37225d3-40cc-447f-d159-7fdb7c907f0b"
      },
      "execution_count": 27,
      "outputs": [
        {
          "output_type": "stream",
          "name": "stdout",
          "text": [
            "Sentiment analysis completed. Results saved to sentiment_analysis_results.csv\n"
          ]
        }
      ]
    }
  ]
}