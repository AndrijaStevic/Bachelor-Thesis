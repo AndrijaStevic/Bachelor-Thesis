{
 "cells": [
  {
   "cell_type": "code",
   "execution_count": 104,
   "metadata": {},
   "outputs": [],
   "source": [
    "import numpy as np \n",
    "import pandas as pd \n",
    "from sklearn.preprocessing import MinMaxScaler, LabelEncoder\n",
    "from sklearn.metrics import mean_absolute_error, mean_absolute_percentage_error, mean_squared_error\n",
    "import tensorflow as tf"
   ]
  },
  {
   "cell_type": "code",
   "execution_count": 105,
   "metadata": {},
   "outputs": [],
   "source": [
    "# Hyperparameters\n",
    "split = 0.85\n",
    "sequence_length = 10\n",
    "epochs = 10\n",
    "learning_rate = 0.02\n",
    "selected_ticker = \"META\""
   ]
  },
  {
   "cell_type": "code",
   "execution_count": 106,
   "metadata": {},
   "outputs": [],
   "source": [
    "# Loading stock price data\n",
    "stock_data = pd.read_csv(\"historical_data.csv\")\n",
    "columns = ['Close']\n",
    "ticker_column = 'Ticker'"
   ]
  },
  {
   "cell_type": "code",
   "execution_count": 107,
   "metadata": {},
   "outputs": [],
   "source": [
    "# Filter data for the selected ticker\n",
    "stock_data = stock_data[stock_data[ticker_column] == selected_ticker]"
   ]
  },
  {
   "cell_type": "code",
   "execution_count": 108,
   "metadata": {},
   "outputs": [],
   "source": [
    "# Encode the tickers\n",
    "label_encoder = LabelEncoder()\n",
    "stock_data['Ticker_Encoded'] = label_encoder.fit_transform(stock_data[ticker_column])"
   ]
  },
  {
   "cell_type": "code",
   "execution_count": 109,
   "metadata": {},
   "outputs": [],
   "source": [
    "# Splitting data into train and test sets\n",
    "stock_data['Split'] = stock_data.groupby('Ticker').cumcount() / stock_data.groupby('Ticker')['Date'].transform('count')\n",
    "train_data = stock_data[stock_data['Split'] < split]\n",
    "test_data = stock_data[stock_data['Split'] >= split]"
   ]
  },
  {
   "cell_type": "code",
   "execution_count": 110,
   "metadata": {},
   "outputs": [],
   "source": [
    "# Normalize numerical data\n",
    "scaler = MinMaxScaler()\n",
    "train_data.loc[:, 'Close'] = scaler.fit_transform(train_data[['Close']])\n",
    "test_data.loc[:, 'Close'] = scaler.transform(test_data[['Close']])"
   ]
  },
  {
   "cell_type": "code",
   "execution_count": 111,
   "metadata": {},
   "outputs": [],
   "source": [
    "# Prepare sequences for training and testing\n",
    "def prepare_sequences(data, sequence_length, scaler):\n",
    "    X_seq, y = [], []\n",
    "    group_values = data[columns].values\n",
    "    for i in range(len(group_values) - sequence_length):\n",
    "        X_seq.append(group_values[i:i + sequence_length])\n",
    "        y.append(group_values[i + sequence_length])\n",
    "    return np.array(X_seq), np.array(y)"
   ]
  },
  {
   "cell_type": "code",
   "execution_count": 112,
   "metadata": {},
   "outputs": [],
   "source": [
    "X_train, y_train = prepare_sequences(train_data, sequence_length, scaler)\n",
    "X_test, y_test = prepare_sequences(test_data, sequence_length, scaler)"
   ]
  },
  {
   "cell_type": "code",
   "execution_count": 113,
   "metadata": {},
   "outputs": [],
   "source": [
    "# Model creation\n",
    "def model_create():\n",
    "    tf.random.set_seed(1234)\n",
    "    \n",
    "    # Sequential input for stock data\n",
    "    seq_input = tf.keras.Input(shape=(X_train.shape[1], 1), name=\"Sequence_Input\")\n",
    "    \n",
    "    # LSTM layers\n",
    "    lstm_out = tf.keras.layers.LSTM(units=50, activation=\"tanh\", return_sequences=True)(seq_input)\n",
    "    lstm_out = tf.keras.layers.Dropout(0.15)(lstm_out)\n",
    "    lstm_out = tf.keras.layers.LSTM(units=30, activation=\"tanh\", return_sequences=True)(lstm_out)\n",
    "    lstm_out = tf.keras.layers.Dropout(0.05)(lstm_out)\n",
    "    lstm_out = tf.keras.layers.LSTM(units=20, activation=\"tanh\", return_sequences=False)(lstm_out)\n",
    "    lstm_out = tf.keras.layers.Dropout(0.01)(lstm_out)\n",
    "    \n",
    "    # Dense layers\n",
    "    dense_out = tf.keras.layers.Dense(units=50, activation=\"relu\")(lstm_out)\n",
    "    dense_out = tf.keras.layers.Dropout(0.2)(dense_out)\n",
    "    output = tf.keras.layers.Dense(units=1, activation=\"linear\")(dense_out)\n",
    "    \n",
    "    # Compile the model\n",
    "    model = tf.keras.models.Model(inputs=seq_input, outputs=output)\n",
    "    model.compile(\n",
    "        loss=\"mean_squared_error\",\n",
    "        optimizer=tf.keras.optimizers.Adam(learning_rate=learning_rate)\n",
    "    )\n",
    "    \n",
    "    # Train the model\n",
    "    model.fit(\n",
    "        X_train, y_train,\n",
    "        epochs=epochs,\n",
    "        batch_size=32,\n",
    "        verbose=1\n",
    "    )\n",
    "    return model"
   ]
  },
  {
   "cell_type": "code",
   "execution_count": 114,
   "metadata": {},
   "outputs": [],
   "source": [
    "# Invert normalization\n",
    "y_test = scaler.inverse_transform(y_test)"
   ]
  },
  {
   "cell_type": "code",
   "execution_count": 115,
   "metadata": {},
   "outputs": [],
   "source": [
    "# Prediction on test set\n",
    "def predict(model):\n",
    "    predictions = model.predict(X_test)\n",
    "    predictions = scaler.inverse_transform(predictions.reshape(-1, 1)).reshape(-1, 1)\n",
    "    return predictions"
   ]
  },
  {
   "cell_type": "code",
   "execution_count": 116,
   "metadata": {},
   "outputs": [],
   "source": [
    "# Evaluation\n",
    "def evaluate(predictions):\n",
    "    mae = mean_absolute_error(predictions, y_test)\n",
    "    mape = mean_absolute_percentage_error(predictions, y_test)\n",
    "    return mae, mape, (1 - mape)"
   ]
  },
  {
   "cell_type": "code",
   "execution_count": 117,
   "metadata": {},
   "outputs": [],
   "source": [
    "# Trial runs\n",
    "def run_model(n):\n",
    "    total_mae = total_mape = total_acc = 0\n",
    "    for i in range(n):\n",
    "        model = model_create()\n",
    "        predictions = predict(model)\n",
    "        mae, mape, acc = evaluate(predictions)\n",
    "        total_mae += mae\n",
    "        total_mape += mape \n",
    "        total_acc += acc \n",
    "    return (total_mae / n), (total_mape / n), (total_acc / n), predictions.tolist()"
   ]
  },
  {
   "cell_type": "code",
   "execution_count": 118,
   "metadata": {},
   "outputs": [
    {
     "name": "stdout",
     "output_type": "stream",
     "text": [
      "Epoch 1/10\n",
      "\u001b[1m13/13\u001b[0m \u001b[32m━━━━━━━━━━━━━━━━━━━━\u001b[0m\u001b[37m\u001b[0m \u001b[1m6s\u001b[0m 10ms/step - loss: 0.1339\n",
      "Epoch 2/10\n",
      "\u001b[1m13/13\u001b[0m \u001b[32m━━━━━━━━━━━━━━━━━━━━\u001b[0m\u001b[37m\u001b[0m \u001b[1m0s\u001b[0m 10ms/step - loss: 0.0196\n",
      "Epoch 3/10\n",
      "\u001b[1m13/13\u001b[0m \u001b[32m━━━━━━━━━━━━━━━━━━━━\u001b[0m\u001b[37m\u001b[0m \u001b[1m0s\u001b[0m 9ms/step - loss: 0.0119\n",
      "Epoch 4/10\n",
      "\u001b[1m13/13\u001b[0m \u001b[32m━━━━━━━━━━━━━━━━━━━━\u001b[0m\u001b[37m\u001b[0m \u001b[1m0s\u001b[0m 9ms/step - loss: 0.0077\n",
      "Epoch 5/10\n",
      "\u001b[1m13/13\u001b[0m \u001b[32m━━━━━━━━━━━━━━━━━━━━\u001b[0m\u001b[37m\u001b[0m \u001b[1m0s\u001b[0m 9ms/step - loss: 0.0083\n",
      "Epoch 6/10\n",
      "\u001b[1m13/13\u001b[0m \u001b[32m━━━━━━━━━━━━━━━━━━━━\u001b[0m\u001b[37m\u001b[0m \u001b[1m0s\u001b[0m 9ms/step - loss: 0.0071\n",
      "Epoch 7/10\n",
      "\u001b[1m13/13\u001b[0m \u001b[32m━━━━━━━━━━━━━━━━━━━━\u001b[0m\u001b[37m\u001b[0m \u001b[1m0s\u001b[0m 20ms/step - loss: 0.0061\n",
      "Epoch 8/10\n",
      "\u001b[1m13/13\u001b[0m \u001b[32m━━━━━━━━━━━━━━━━━━━━\u001b[0m\u001b[37m\u001b[0m \u001b[1m0s\u001b[0m 19ms/step - loss: 0.0055\n",
      "Epoch 9/10\n",
      "\u001b[1m13/13\u001b[0m \u001b[32m━━━━━━━━━━━━━━━━━━━━\u001b[0m\u001b[37m\u001b[0m \u001b[1m0s\u001b[0m 20ms/step - loss: 0.0057\n",
      "Epoch 10/10\n",
      "\u001b[1m13/13\u001b[0m \u001b[32m━━━━━━━━━━━━━━━━━━━━\u001b[0m\u001b[37m\u001b[0m \u001b[1m0s\u001b[0m 21ms/step - loss: 0.0056\n",
      "\u001b[1m3/3\u001b[0m \u001b[32m━━━━━━━━━━━━━━━━━━━━\u001b[0m\u001b[37m\u001b[0m \u001b[1m1s\u001b[0m 368ms/step\n",
      "Mean Absolute Error = 12.5035165640024\n",
      "Mean Absolute Percentage Error = 3.96%\n",
      "Accuracy = 0.9604161057375402\n"
     ]
    }
   ],
   "source": [
    "mae, mape, acc, preds = run_model(1)\n",
    "\n",
    "print(f\"Mean Absolute Error = {mae}\")\n",
    "print(f\"Mean Absolute Percentage Error = {mape*100:.2f}%\")\n",
    "print(f\"Accuracy = {acc}\")"
   ]
  }
 ],
 "metadata": {
  "kernelspec": {
   "display_name": "Python 3",
   "language": "python",
   "name": "python3"
  },
  "language_info": {
   "codemirror_mode": {
    "name": "ipython",
    "version": 3
   },
   "file_extension": ".py",
   "mimetype": "text/x-python",
   "name": "python",
   "nbconvert_exporter": "python",
   "pygments_lexer": "ipython3",
   "version": "3.10.9"
  }
 },
 "nbformat": 4,
 "nbformat_minor": 2
}
