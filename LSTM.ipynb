{
 "cells": [
  {
   "cell_type": "code",
   "execution_count": 38,
   "metadata": {},
   "outputs": [],
   "source": [
    "import pandas as pd\n",
    "import numpy as np\n",
    "from sklearn.preprocessing import MinMaxScaler\n",
    "from sklearn.model_selection import train_test_split\n",
    "from tensorflow.keras.models import Sequential\n",
    "from tensorflow.keras.layers import LSTM, Dense, Dropout\n",
    "from sklearn.preprocessing import OneHotEncoder\n",
    "from sklearn.metrics import mean_squared_error"
   ]
  },
  {
   "cell_type": "code",
   "execution_count": 39,
   "metadata": {},
   "outputs": [],
   "source": [
    "# Load the historical data\n",
    "data = pd.read_csv('historical_data.csv')"
   ]
  },
  {
   "cell_type": "code",
   "execution_count": 40,
   "metadata": {},
   "outputs": [],
   "source": [
    "# Filter the required columns and sort by date and ticker\n",
    "data = data[['Date', 'Open', 'High', 'Low', 'Close', 'Volume', 'Ticker']]\n",
    "data['Date'] = pd.to_datetime(data['Date'])\n",
    "data.sort_values(['Ticker', 'Date'], inplace=True)"
   ]
  },
  {
   "cell_type": "code",
   "execution_count": 41,
   "metadata": {},
   "outputs": [
    {
     "name": "stderr",
     "output_type": "stream",
     "text": [
      "c:\\Users\\astev\\AppData\\Local\\Programs\\Python\\Python310\\lib\\site-packages\\sklearn\\preprocessing\\_encoders.py:975: FutureWarning: `sparse` was renamed to `sparse_output` in version 1.2 and will be removed in 1.4. `sparse_output` is ignored unless you leave `sparse` to its default value.\n",
      "  warnings.warn(\n"
     ]
    }
   ],
   "source": [
    "# Encode the Ticker column\n",
    "encoder = OneHotEncoder(sparse=False)\n",
    "tickers_encoded = encoder.fit_transform(data[['Ticker']])"
   ]
  },
  {
   "cell_type": "code",
   "execution_count": 42,
   "metadata": {},
   "outputs": [],
   "source": [
    "# Add the encoded tickers as additional features\n",
    "encoded_columns = [f'Ticker_{i}' for i in range(tickers_encoded.shape[1])]\n",
    "encoded_df = pd.DataFrame(tickers_encoded, columns=encoded_columns, index=data.index)\n",
    "data = pd.concat([data.reset_index(drop=True), encoded_df], axis=1)"
   ]
  },
  {
   "cell_type": "code",
   "execution_count": 43,
   "metadata": {},
   "outputs": [],
   "source": [
    "# Scale numerical features (Open, High, Low, Close, Volume)\n",
    "scaler = MinMaxScaler(feature_range=(0, 1))\n",
    "numerical_features = ['Open', 'High', 'Low', 'Close', 'Volume']\n",
    "data[numerical_features] = scaler.fit_transform(data[numerical_features])"
   ]
  },
  {
   "cell_type": "code",
   "execution_count": 44,
   "metadata": {},
   "outputs": [],
   "source": [
    "# Prepare data for LSTM\n",
    "def preprocess_data(data, n_steps=10):\n",
    "    X, y = [], []\n",
    "    feature_columns = numerical_features + encoded_columns\n",
    "    for ticker in data['Ticker'].unique():\n",
    "        ticker_data = data[data['Ticker'] == ticker]\n",
    "        ticker_data = ticker_data[feature_columns].values\n",
    "        for i in range(n_steps, len(ticker_data)):\n",
    "            X.append(ticker_data[i - n_steps:i, :])  # Last n_steps rows as features\n",
    "            y.append(ticker_data[i, 3])  # Predict 'Close' price\n",
    "    return np.array(X), np.array(y)"
   ]
  },
  {
   "cell_type": "code",
   "execution_count": 45,
   "metadata": {},
   "outputs": [],
   "source": [
    "# Define the number of timesteps\n",
    "n_steps = 10\n"
   ]
  },
  {
   "cell_type": "code",
   "execution_count": 46,
   "metadata": {},
   "outputs": [],
   "source": [
    "# Preprocess the data\n",
    "X, y = preprocess_data(data, n_steps=n_steps)"
   ]
  },
  {
   "cell_type": "code",
   "execution_count": 47,
   "metadata": {},
   "outputs": [],
   "source": [
    "# Split the data into training and testing sets\n",
    "X_train, X_test, y_train, y_test = train_test_split(X, y, test_size=0.2, random_state=42)"
   ]
  },
  {
   "cell_type": "code",
   "execution_count": 48,
   "metadata": {},
   "outputs": [],
   "source": [
    "# Build the LSTM model\n",
    "model = Sequential([\n",
    "    LSTM(50, return_sequences=True, input_shape=(X_train.shape[1], X_train.shape[2])),\n",
    "    Dropout(0.2),\n",
    "    LSTM(50, return_sequences=False),\n",
    "    Dropout(0.2),\n",
    "    Dense(25, activation='relu'),\n",
    "    Dense(1)  # Output layer for predicting 'Close' price\n",
    "])"
   ]
  },
  {
   "cell_type": "code",
   "execution_count": 49,
   "metadata": {},
   "outputs": [],
   "source": [
    "# Compile the model\n",
    "model.compile(optimizer='adam', loss='mse')"
   ]
  },
  {
   "cell_type": "code",
   "execution_count": 50,
   "metadata": {},
   "outputs": [
    {
     "name": "stdout",
     "output_type": "stream",
     "text": [
      "Epoch 1/30\n",
      "1083/1083 [==============================] - 12s 8ms/step - loss: 4.4818e-04 - val_loss: 5.1801e-05\n",
      "Epoch 2/30\n",
      "1083/1083 [==============================] - 11s 10ms/step - loss: 1.5265e-04 - val_loss: 5.5546e-05\n",
      "Epoch 3/30\n",
      "1083/1083 [==============================] - 11s 10ms/step - loss: 1.2501e-04 - val_loss: 5.5960e-05\n",
      "Epoch 4/30\n",
      "1083/1083 [==============================] - 10s 9ms/step - loss: 1.0300e-04 - val_loss: 4.9240e-05\n",
      "Epoch 5/30\n",
      "1083/1083 [==============================] - 10s 9ms/step - loss: 1.0880e-04 - val_loss: 2.8617e-05\n",
      "Epoch 6/30\n",
      "1083/1083 [==============================] - 10s 9ms/step - loss: 9.5229e-05 - val_loss: 3.7330e-05\n",
      "Epoch 7/30\n",
      "1083/1083 [==============================] - 11s 10ms/step - loss: 7.7481e-05 - val_loss: 3.6136e-05\n",
      "Epoch 8/30\n",
      "1083/1083 [==============================] - 10s 9ms/step - loss: 8.0773e-05 - val_loss: 2.6386e-05\n",
      "Epoch 9/30\n",
      "1083/1083 [==============================] - 10s 10ms/step - loss: 8.1869e-05 - val_loss: 1.4357e-04\n",
      "Epoch 10/30\n",
      "1083/1083 [==============================] - 10s 10ms/step - loss: 8.2162e-05 - val_loss: 3.0228e-05\n",
      "Epoch 11/30\n",
      "1083/1083 [==============================] - 10s 9ms/step - loss: 8.3104e-05 - val_loss: 2.3638e-04\n",
      "Epoch 12/30\n",
      "1083/1083 [==============================] - 10s 9ms/step - loss: 6.9754e-05 - val_loss: 8.1666e-05\n",
      "Epoch 13/30\n",
      "1083/1083 [==============================] - 10s 9ms/step - loss: 6.5087e-05 - val_loss: 5.7093e-05\n",
      "Epoch 14/30\n",
      "1083/1083 [==============================] - 10s 9ms/step - loss: 5.9318e-05 - val_loss: 6.5325e-05\n",
      "Epoch 15/30\n",
      "1083/1083 [==============================] - 10s 10ms/step - loss: 6.9830e-05 - val_loss: 8.0443e-05\n",
      "Epoch 16/30\n",
      "1083/1083 [==============================] - 12s 11ms/step - loss: 6.4065e-05 - val_loss: 5.9943e-05\n",
      "Epoch 17/30\n",
      "1083/1083 [==============================] - 10s 9ms/step - loss: 5.6609e-05 - val_loss: 1.9139e-05\n",
      "Epoch 18/30\n",
      "1083/1083 [==============================] - 10s 9ms/step - loss: 6.1249e-05 - val_loss: 7.5151e-05\n",
      "Epoch 19/30\n",
      "1083/1083 [==============================] - 10s 9ms/step - loss: 5.4973e-05 - val_loss: 2.8504e-05\n",
      "Epoch 20/30\n",
      "1083/1083 [==============================] - 11s 10ms/step - loss: 4.7887e-05 - val_loss: 3.3438e-05\n",
      "Epoch 21/30\n",
      "1083/1083 [==============================] - 10s 9ms/step - loss: 4.9953e-05 - val_loss: 1.9778e-05\n",
      "Epoch 22/30\n",
      "1083/1083 [==============================] - 10s 9ms/step - loss: 3.8869e-05 - val_loss: 8.0892e-05\n",
      "Epoch 23/30\n",
      "1083/1083 [==============================] - 10s 9ms/step - loss: 4.0786e-05 - val_loss: 5.6533e-05\n",
      "Epoch 24/30\n",
      "1083/1083 [==============================] - 10s 9ms/step - loss: 4.6792e-05 - val_loss: 4.0209e-05\n",
      "Epoch 25/30\n",
      "1083/1083 [==============================] - 10s 9ms/step - loss: 3.8574e-05 - val_loss: 4.0505e-05\n",
      "Epoch 26/30\n",
      "1083/1083 [==============================] - 10s 9ms/step - loss: 4.1249e-05 - val_loss: 5.3242e-05\n",
      "Epoch 27/30\n",
      "1083/1083 [==============================] - 10s 9ms/step - loss: 3.3493e-05 - val_loss: 6.4972e-05\n",
      "Epoch 28/30\n",
      "1083/1083 [==============================] - 11s 10ms/step - loss: 2.7861e-05 - val_loss: 9.6497e-05\n",
      "Epoch 29/30\n",
      "1083/1083 [==============================] - 10s 9ms/step - loss: 3.5734e-05 - val_loss: 9.4850e-05\n",
      "Epoch 30/30\n",
      "1083/1083 [==============================] - 10s 9ms/step - loss: 3.1830e-05 - val_loss: 1.4647e-04\n"
     ]
    }
   ],
   "source": [
    "# Train the model\n",
    "history = model.fit(X_train, y_train, epochs=30, batch_size=32, validation_split=0.1)"
   ]
  },
  {
   "cell_type": "code",
   "execution_count": 51,
   "metadata": {},
   "outputs": [
    {
     "name": "stdout",
     "output_type": "stream",
     "text": [
      "301/301 [==============================] - 1s 3ms/step - loss: 1.5767e-04\n",
      "Test Loss: 0.00015766863361932337\n"
     ]
    }
   ],
   "source": [
    "# Evaluate the model on the test set\n",
    "loss = model.evaluate(X_test, y_test)\n",
    "print(f\"Test Loss: {loss}\")\n"
   ]
  },
  {
   "cell_type": "code",
   "execution_count": 52,
   "metadata": {},
   "outputs": [
    {
     "name": "stdout",
     "output_type": "stream",
     "text": [
      "301/301 [==============================] - 1s 3ms/step\n"
     ]
    }
   ],
   "source": [
    "# Make predictions\n",
    "predictions = model.predict(X_test)"
   ]
  },
  {
   "cell_type": "code",
   "execution_count": 53,
   "metadata": {},
   "outputs": [],
   "source": [
    "# Inverse scale the predictions and actual values\n",
    "y_test_scaled = scaler.inverse_transform(\n",
    "    np.concatenate((np.zeros((y_test.shape[0], 4)), y_test.reshape(-1, 1)), axis=1))[:, -1]\n",
    "predictions_scaled = scaler.inverse_transform(\n",
    "    np.concatenate((np.zeros((predictions.shape[0], 4)), predictions), axis=1))[:, -1]"
   ]
  },
  {
   "cell_type": "code",
   "execution_count": 54,
   "metadata": {},
   "outputs": [
    {
     "name": "stdout",
     "output_type": "stream",
     "text": [
      "Root Mean Squared Error (RMSE): 19384829.941692118\n"
     ]
    }
   ],
   "source": [
    "# Calculate RMSE\n",
    "rmse = np.sqrt(mean_squared_error(y_test_scaled, predictions_scaled))\n",
    "print(f\"Root Mean Squared Error (RMSE): {rmse}\")"
   ]
  },
  {
   "cell_type": "code",
   "execution_count": 55,
   "metadata": {},
   "outputs": [],
   "source": [
    "# Calculate MAPE\n",
    "def mean_absolute_percentage_error(y_true, y_pred):\n",
    "    y_true, y_pred = np.array(y_true), np.array(y_pred)\n",
    "    return np.mean(np.abs((y_true - y_pred) / y_true)) * 100"
   ]
  },
  {
   "cell_type": "code",
   "execution_count": 56,
   "metadata": {},
   "outputs": [
    {
     "name": "stdout",
     "output_type": "stream",
     "text": [
      "Mean Absolute Percentage Error (MAPE): 65.40%\n"
     ]
    }
   ],
   "source": [
    "mape = mean_absolute_percentage_error(y_test_scaled, predictions_scaled)\n",
    "print(f\"Mean Absolute Percentage Error (MAPE): {mape:.2f}%\")"
   ]
  }
 ],
 "metadata": {
  "kernelspec": {
   "display_name": "Python 3",
   "language": "python",
   "name": "python3"
  },
  "language_info": {
   "codemirror_mode": {
    "name": "ipython",
    "version": 3
   },
   "file_extension": ".py",
   "mimetype": "text/x-python",
   "name": "python",
   "nbconvert_exporter": "python",
   "pygments_lexer": "ipython3",
   "version": "3.10.9"
  }
 },
 "nbformat": 4,
 "nbformat_minor": 2
}
