{
 "cells": [
  {
   "cell_type": "code",
   "execution_count": 24,
   "metadata": {},
   "outputs": [],
   "source": [
    "import os\n",
    "import random\n",
    "import pandas as pd\n",
    "import numpy as np\n",
    "import tensorflow as tf\n",
    "from sklearn.preprocessing import MinMaxScaler\n",
    "from sklearn.model_selection import train_test_split\n",
    "from tensorflow.keras.models import Sequential\n",
    "from tensorflow.keras.layers import LSTM, Dense, Dropout\n",
    "from sklearn.metrics import mean_absolute_error, mean_absolute_percentage_error\n"
   ]
  },
  {
   "cell_type": "code",
   "execution_count": 25,
   "metadata": {},
   "outputs": [],
   "source": [
    "# Set seed for reproducibility\n",
    "seed = 42\n",
    "np.random.seed(seed)\n",
    "random.seed(seed)\n",
    "tf.random.set_seed(seed)"
   ]
  },
  {
   "cell_type": "code",
   "execution_count": 26,
   "metadata": {},
   "outputs": [],
   "source": [
    "# Load the historical data\n",
    "data = pd.read_csv('historical_data.csv')"
   ]
  },
  {
   "cell_type": "code",
   "execution_count": 27,
   "metadata": {},
   "outputs": [],
   "source": [
    "# Load the sentiment scores data\n",
    "sentiment_data = pd.read_csv('daily_sentiment_scores_both.csv')"
   ]
  },
  {
   "cell_type": "code",
   "execution_count": 28,
   "metadata": {},
   "outputs": [],
   "source": [
    "# Convert date columns to datetime format\n",
    "data['Date'] = pd.to_datetime(data['Date'])\n",
    "sentiment_data['datetime'] = pd.to_datetime(sentiment_data['datetime'])"
   ]
  },
  {
   "cell_type": "code",
   "execution_count": 29,
   "metadata": {},
   "outputs": [],
   "source": [
    "# Merge sentiment scores (neutral, positive, negative) with historical data\n",
    "data = pd.merge(data, sentiment_data[['datetime', 'neutral', 'positive', 'negative']], left_on='Date', right_on='datetime', how='left')\n",
    "\n",
    "# Drop extra datetime column\n",
    "data.drop(columns=['datetime'], inplace=True)\n",
    "\n",
    "# Fill NaN sentiment scores with 0 (assume neutral sentiment if missing)\n",
    "data[['neutral', 'positive', 'negative']] = data[['neutral', 'positive', 'negative']].fillna(0)"
   ]
  },
  {
   "cell_type": "code",
   "execution_count": 30,
   "metadata": {},
   "outputs": [],
   "source": [
    "# Define tickers to loop through\n",
    "tickers = ['TSLA', 'AAPL', 'AXP','TMUS']"
   ]
  },
  {
   "cell_type": "code",
   "execution_count": 31,
   "metadata": {},
   "outputs": [],
   "source": [
    "# Dictionary to store results\n",
    "results = {}"
   ]
  },
  {
   "cell_type": "code",
   "execution_count": 32,
   "metadata": {},
   "outputs": [
    {
     "name": "stdout",
     "output_type": "stream",
     "text": [
      "\n",
      " Training model for TSLA...\n"
     ]
    },
    {
     "name": "stderr",
     "output_type": "stream",
     "text": [
      "c:\\Users\\astev\\AppData\\Local\\Programs\\Python\\Python310\\lib\\site-packages\\keras\\src\\layers\\rnn\\rnn.py:200: UserWarning: Do not pass an `input_shape`/`input_dim` argument to a layer. When using Sequential models, prefer using an `Input(shape)` object as the first layer in the model instead.\n",
      "  super().__init__(**kwargs)\n"
     ]
    },
    {
     "name": "stdout",
     "output_type": "stream",
     "text": [
      "\u001b[1m3/3\u001b[0m \u001b[32m━━━━━━━━━━━━━━━━━━━━\u001b[0m\u001b[37m\u001b[0m \u001b[1m1s\u001b[0m 209ms/step\n",
      "\n",
      " Training model for AAPL...\n"
     ]
    },
    {
     "name": "stderr",
     "output_type": "stream",
     "text": [
      "c:\\Users\\astev\\AppData\\Local\\Programs\\Python\\Python310\\lib\\site-packages\\keras\\src\\layers\\rnn\\rnn.py:200: UserWarning: Do not pass an `input_shape`/`input_dim` argument to a layer. When using Sequential models, prefer using an `Input(shape)` object as the first layer in the model instead.\n",
      "  super().__init__(**kwargs)\n"
     ]
    },
    {
     "name": "stdout",
     "output_type": "stream",
     "text": [
      "\u001b[1m3/3\u001b[0m \u001b[32m━━━━━━━━━━━━━━━━━━━━\u001b[0m\u001b[37m\u001b[0m \u001b[1m1s\u001b[0m 259ms/step\n",
      "\n",
      " Training model for AXP...\n"
     ]
    },
    {
     "name": "stderr",
     "output_type": "stream",
     "text": [
      "c:\\Users\\astev\\AppData\\Local\\Programs\\Python\\Python310\\lib\\site-packages\\keras\\src\\layers\\rnn\\rnn.py:200: UserWarning: Do not pass an `input_shape`/`input_dim` argument to a layer. When using Sequential models, prefer using an `Input(shape)` object as the first layer in the model instead.\n",
      "  super().__init__(**kwargs)\n"
     ]
    },
    {
     "name": "stdout",
     "output_type": "stream",
     "text": [
      "\u001b[1m3/3\u001b[0m \u001b[32m━━━━━━━━━━━━━━━━━━━━\u001b[0m\u001b[37m\u001b[0m \u001b[1m1s\u001b[0m 187ms/step\n",
      "\n",
      " Training model for TMUS...\n"
     ]
    },
    {
     "name": "stderr",
     "output_type": "stream",
     "text": [
      "c:\\Users\\astev\\AppData\\Local\\Programs\\Python\\Python310\\lib\\site-packages\\keras\\src\\layers\\rnn\\rnn.py:200: UserWarning: Do not pass an `input_shape`/`input_dim` argument to a layer. When using Sequential models, prefer using an `Input(shape)` object as the first layer in the model instead.\n",
      "  super().__init__(**kwargs)\n"
     ]
    },
    {
     "name": "stdout",
     "output_type": "stream",
     "text": [
      "\u001b[1m3/3\u001b[0m \u001b[32m━━━━━━━━━━━━━━━━━━━━\u001b[0m\u001b[37m\u001b[0m \u001b[1m1s\u001b[0m 198ms/step\n"
     ]
    }
   ],
   "source": [
    "# Loop through each ticker\n",
    "for ticker in tickers:\n",
    "    print(f\"\\n Training model for {ticker}...\")\n",
    "\n",
    "    # Filter data for the current ticker\n",
    "    ticker_data = data[data['Ticker'] == ticker].copy()\n",
    "\n",
    "    # Sort by date\n",
    "    ticker_data.sort_values('Date', inplace=True)\n",
    "\n",
    "    # Select relevant columns\n",
    "    numerical_features = ['Open', 'High', 'Low', 'Volume']\n",
    "    numerical_features_with_sentiment = numerical_features + ['neutral', 'positive', 'negative']\n",
    "\n",
    "    # Scale numerical features\n",
    "    scaler_features = MinMaxScaler(feature_range=(0, 1))\n",
    "    ticker_data[numerical_features] = scaler_features.fit_transform(ticker_data[numerical_features])\n",
    "\n",
    "    # Separate scaler for 'Close' price\n",
    "    scaler_close = MinMaxScaler(feature_range=(0, 1))\n",
    "    ticker_data[['Close']] = scaler_close.fit_transform(ticker_data[['Close']])\n",
    "\n",
    "    # Preprocessing function\n",
    "    def preprocess_data(data, n_steps=10):\n",
    "        X, y = [], []\n",
    "        feature_columns = numerical_features_with_sentiment + ['Close']\n",
    "\n",
    "        values = data[feature_columns].values\n",
    "        for i in range(n_steps, len(values)):\n",
    "            X.append(values[i - n_steps:i, :])  # Last n_steps rows as features\n",
    "            y.append(values[i, -1])  # Predict 'Close' price\n",
    "\n",
    "        return np.array(X), np.array(y)\n",
    "\n",
    "    # Preprocess the data\n",
    "    X, y = preprocess_data(ticker_data, n_steps=10)\n",
    "\n",
    "    # Skip if there isn’t enough data\n",
    "    if X.shape[0] == 0:\n",
    "        print(f\"Not enough data for {ticker}. Skipping...\")\n",
    "        continue\n",
    "\n",
    "    # Split the data into training and testing sets\n",
    "    X_train, X_test, y_train, y_test = train_test_split(X, y, test_size=0.2, random_state=42)\n",
    "\n",
    "    # Build the LSTM model\n",
    "    model = Sequential([\n",
    "        LSTM(70, activation=\"tanh\", return_sequences=True, input_shape=(X_train.shape[1], X_train.shape[2])),\n",
    "        LSTM(30, activation=\"tanh\", return_sequences=True),\n",
    "        LSTM(10, activation=\"tanh\", return_sequences=False),\n",
    "        Dense(1, activation='relu'),\n",
    "    ])\n",
    "\n",
    "    # Compile the model\n",
    "    model.compile(optimizer='adam', loss='mse')\n",
    "\n",
    "    # Train the model\n",
    "    history = model.fit(X_train, y_train, epochs=100, batch_size=32, validation_split=0.1, verbose=0)  # Silent training\n",
    "\n",
    "    # Make predictions\n",
    "    predictions = model.predict(X_test)\n",
    "\n",
    "    # Inverse transform only the Close price\n",
    "    y_test_scaled = scaler_close.inverse_transform(y_test.reshape(-1, 1)).flatten()\n",
    "    predictions_scaled = scaler_close.inverse_transform(predictions.reshape(-1, 1)).flatten()\n",
    "\n",
    "    # Evaluate the model\n",
    "    mae = mean_absolute_error(y_test_scaled, predictions_scaled)\n",
    "    mape = mean_absolute_percentage_error(y_test_scaled, predictions_scaled)\n",
    "\n",
    "    # Define a percentage threshold for accuracy\n",
    "    threshold_percentage = 5  # 5% tolerance\n",
    "    percentage_errors = np.abs((y_test_scaled - predictions_scaled) / y_test_scaled) * 100\n",
    "    acc = np.mean(percentage_errors <= threshold_percentage) * 100\n",
    "    acc2 = (1 - mape) * 100\n",
    "\n",
    "    # Store results\n",
    "    results[ticker] = {\n",
    "        \"Mean Absolute Error\": mae,\n",
    "        \"Mean Absolute Percentage Error (%)\": mape * 100,\n",
    "        \"Accuracy (5% Threshold)\": acc,\n",
    "        \"Overall Accuracy (%)\": acc2,\n",
    "    }\n"
   ]
  },
  {
   "cell_type": "code",
   "execution_count": 33,
   "metadata": {},
   "outputs": [
    {
     "name": "stdout",
     "output_type": "stream",
     "text": [
      "Model Performance Metrics:\n",
      "\n",
      "TSLA Performance:\n",
      "Mean Absolute Error: 9.41\n",
      "Mean Absolute Percentage Error (%): 4.18\n",
      "Accuracy (5% Threshold): 63.64\n",
      "Overall Accuracy (%): 95.82\n",
      "Highest Closing Price: $317.54\n",
      "Lowest Closing Price: $108.10\n",
      "\n",
      "AAPL Performance:\n",
      "Mean Absolute Error: 2.62\n",
      "Mean Absolute Percentage Error (%): 1.71\n",
      "Accuracy (5% Threshold): 94.81\n",
      "Overall Accuracy (%): 98.29\n",
      "Highest Closing Price: $196.45\n",
      "Lowest Closing Price: $125.02\n",
      "\n",
      "AXP Performance:\n",
      "Mean Absolute Error: 2.78\n",
      "Mean Absolute Percentage Error (%): 1.80\n",
      "Accuracy (5% Threshold): 96.10\n",
      "Overall Accuracy (%): 98.20\n",
      "Highest Closing Price: $181.33\n",
      "Lowest Closing Price: $134.91\n",
      "\n",
      "TMUS Performance:\n",
      "Mean Absolute Error: 1.67\n",
      "Mean Absolute Percentage Error (%): 1.19\n",
      "Accuracy (5% Threshold): 100.00\n",
      "Overall Accuracy (%): 98.81\n",
      "Highest Closing Price: $152.41\n",
      "Lowest Closing Price: $121.73\n"
     ]
    }
   ],
   "source": [
    "# Step 12: Print final results\n",
    "print(\"Model Performance Metrics:\")\n",
    "\n",
    "for ticker, metrics in results.items():\n",
    "    # Get highest and lowest close prices from the original dataset\n",
    "    stock_data = data[data['Ticker'] == ticker]  # Filter data for the current ticker\n",
    "    highest_close = stock_data['Close'].max()\n",
    "    lowest_close = stock_data['Close'].min()\n",
    "\n",
    "    print(f\"\\n{ticker} Performance:\")\n",
    "    for metric, value in metrics.items():\n",
    "        print(f\"{metric}: {value:.2f}\")\n",
    "\n",
    "    # Print highest and lowest closing prices\n",
    "    print(f\"Highest Closing Price: ${highest_close:.2f}\")\n",
    "    print(f\"Lowest Closing Price: ${lowest_close:.2f}\")\n"
   ]
  },
  {
   "cell_type": "code",
   "execution_count": null,
   "metadata": {},
   "outputs": [],
   "source": []
  }
 ],
 "metadata": {
  "kernelspec": {
   "display_name": "Python 3",
   "language": "python",
   "name": "python3"
  },
  "language_info": {
   "codemirror_mode": {
    "name": "ipython",
    "version": 3
   },
   "file_extension": ".py",
   "mimetype": "text/x-python",
   "name": "python",
   "nbconvert_exporter": "python",
   "pygments_lexer": "ipython3",
   "version": "3.10.9"
  }
 },
 "nbformat": 4,
 "nbformat_minor": 2
}
